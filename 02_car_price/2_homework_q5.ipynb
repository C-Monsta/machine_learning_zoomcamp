{
 "cells": [
  {
   "cell_type": "code",
   "execution_count": 1,
   "id": "e7630495-c3a8-426e-83be-fcacfb2b4ea3",
   "metadata": {},
   "outputs": [],
   "source": [
    "import pandas as pd\n",
    "import numpy as np\n",
    "import matplotlib.pyplot as plt\n",
    "import seaborn as sns"
   ]
  },
  {
   "cell_type": "code",
   "execution_count": 2,
   "id": "2801c01a-c655-4fa3-a186-da628e237e12",
   "metadata": {},
   "outputs": [
    {
     "data": {
      "text/html": [
       "<div>\n",
       "<style scoped>\n",
       "    .dataframe tbody tr th:only-of-type {\n",
       "        vertical-align: middle;\n",
       "    }\n",
       "\n",
       "    .dataframe tbody tr th {\n",
       "        vertical-align: top;\n",
       "    }\n",
       "\n",
       "    .dataframe thead th {\n",
       "        text-align: right;\n",
       "    }\n",
       "</style>\n",
       "<table border=\"1\" class=\"dataframe\">\n",
       "  <thead>\n",
       "    <tr style=\"text-align: right;\">\n",
       "      <th></th>\n",
       "      <th>engine_displacement</th>\n",
       "      <th>horsepower</th>\n",
       "      <th>vehicle_weight</th>\n",
       "      <th>model_year</th>\n",
       "      <th>fuel_efficiency_mpg</th>\n",
       "      <th>horsepower_adj_zero</th>\n",
       "    </tr>\n",
       "  </thead>\n",
       "  <tbody>\n",
       "    <tr>\n",
       "      <th>0</th>\n",
       "      <td>170</td>\n",
       "      <td>159.0</td>\n",
       "      <td>3413.433759</td>\n",
       "      <td>2003</td>\n",
       "      <td>13.231729</td>\n",
       "      <td>159.0</td>\n",
       "    </tr>\n",
       "    <tr>\n",
       "      <th>1</th>\n",
       "      <td>130</td>\n",
       "      <td>97.0</td>\n",
       "      <td>3149.664934</td>\n",
       "      <td>2007</td>\n",
       "      <td>13.688217</td>\n",
       "      <td>97.0</td>\n",
       "    </tr>\n",
       "    <tr>\n",
       "      <th>2</th>\n",
       "      <td>170</td>\n",
       "      <td>78.0</td>\n",
       "      <td>3079.038997</td>\n",
       "      <td>2018</td>\n",
       "      <td>14.246341</td>\n",
       "      <td>78.0</td>\n",
       "    </tr>\n",
       "    <tr>\n",
       "      <th>3</th>\n",
       "      <td>220</td>\n",
       "      <td>NaN</td>\n",
       "      <td>2542.392402</td>\n",
       "      <td>2009</td>\n",
       "      <td>16.912736</td>\n",
       "      <td>0.0</td>\n",
       "    </tr>\n",
       "    <tr>\n",
       "      <th>4</th>\n",
       "      <td>210</td>\n",
       "      <td>140.0</td>\n",
       "      <td>3460.870990</td>\n",
       "      <td>2009</td>\n",
       "      <td>12.488369</td>\n",
       "      <td>140.0</td>\n",
       "    </tr>\n",
       "  </tbody>\n",
       "</table>\n",
       "</div>"
      ],
      "text/plain": [
       "   engine_displacement  horsepower  vehicle_weight  model_year  \\\n",
       "0                  170       159.0     3413.433759        2003   \n",
       "1                  130        97.0     3149.664934        2007   \n",
       "2                  170        78.0     3079.038997        2018   \n",
       "3                  220         NaN     2542.392402        2009   \n",
       "4                  210       140.0     3460.870990        2009   \n",
       "\n",
       "   fuel_efficiency_mpg  horsepower_adj_zero  \n",
       "0            13.231729                159.0  \n",
       "1            13.688217                 97.0  \n",
       "2            14.246341                 78.0  \n",
       "3            16.912736                  0.0  \n",
       "4            12.488369                140.0  "
      ]
     },
     "execution_count": 2,
     "metadata": {},
     "output_type": "execute_result"
    }
   ],
   "source": [
    "# import and clean data\n",
    "url = \"https://raw.githubusercontent.com/alexeygrigorev/datasets/master/car_fuel_efficiency.csv\"\n",
    "# make dataframe\n",
    "df_raw = pd.read_csv(url)\n",
    "\n",
    "# select columns\n",
    "base = ['engine_displacement', 'horsepower', 'vehicle_weight', 'model_year']\n",
    "target = 'fuel_efficiency_mpg'\n",
    "\n",
    "#only keep specific columns\n",
    "df = df_raw[base + [target]].copy()\n",
    "\n",
    "# add horsepower adjusted field\n",
    "df['horsepower_adj_zero'] = df['horsepower'].fillna(0)\n",
    "\n",
    "#preview\n",
    "df.head()"
   ]
  },
  {
   "cell_type": "code",
   "execution_count": 25,
   "id": "466d783a-a996-4d9d-a57e-9237bcceab7b",
   "metadata": {},
   "outputs": [],
   "source": [
    "# set up functions\n",
    "\n",
    "# zeroes instead of nulls\n",
    "def prepare_x(df):\n",
    "    df_num = df[base].copy()\n",
    "    df_num = df_num.fillna(0)\n",
    "    return df_num.values\n",
    "\n",
    "def train_linear_regression(x, y):\n",
    "    ones = np.ones(x.shape[0])\n",
    "    X = np.column_stack([ones, x])\n",
    "    w = np.linalg.solve(X.T.dot(X), X.T.dot(y))\n",
    "    return w[0], w[1:]\n",
    "\n",
    "def rmse(y, y_pred):\n",
    "    return round(np.sqrt((( y - y_pred) ** 2).mean()), 50)"
   ]
  },
  {
   "cell_type": "code",
   "execution_count": 29,
   "id": "42e9dc9a-4d93-41c1-b6a0-4fa23325694b",
   "metadata": {},
   "outputs": [
    {
     "name": "stdout",
     "output_type": "stream",
     "text": [
      "Seed = 0 | Validation RMSE: 0.5206531296297993\n",
      "Seed = 1 | Validation RMSE: 0.5213388912856962\n",
      "Seed = 2 | Validation RMSE: 0.5228069974801947\n",
      "Seed = 3 | Validation RMSE: 0.5159516741173191\n",
      "Seed = 4 | Validation RMSE: 0.5109129460066764\n",
      "Seed = 5 | Validation RMSE: 0.5283406460166361\n",
      "Seed = 6 | Validation RMSE: 0.531391065817111\n",
      "Seed = 7 | Validation RMSE: 0.5090670387374334\n",
      "Seed = 8 | Validation RMSE: 0.5147399129351771\n",
      "Seed = 9 | Validation RMSE: 0.5131865908330882\n"
     ]
    }
   ],
   "source": [
    "# find rmses for different seeds\n",
    "\n",
    "seeds = [0, 1, 2, 3, 4, 5, 6, 7, 8, 9]\n",
    "rmse_scores = []\n",
    "\n",
    "for seed in seeds:\n",
    "    #shuffle and split\n",
    "\n",
    "    n = len(df)\n",
    "    n_val   = int(n * 0.2)\n",
    "    n_test  = int(n * 0.2)\n",
    "    n_train = n - n_val - n_test\n",
    "\n",
    "    np.random.seed(seed)\n",
    "    idx = np.arange(n)\n",
    "    np.random.shuffle(idx)\n",
    "\n",
    "    df_train = df.iloc[idx[:n_train]].copy()\n",
    "    df_val   = df.iloc[idx[n_train:n_train + n_val]].copy()\n",
    "    df_test  = df.iloc[idx[n_train + n_val:]].copy()\n",
    "\n",
    "    #target\n",
    "    # y_train = np.log1p(df_train.fuel_efficiency_mpg.values)\n",
    "    # y_val   = np.log1p(df_val.fuel_efficiency_mpg.values)\n",
    "\n",
    "    #target for data that is already normally distributed (no log)\n",
    "    y_train = df_train.fuel_efficiency_mpg.values\n",
    "    y_val   = df_val.fuel_efficiency_mpg.values\n",
    "    \n",
    "    #features\n",
    "    x_train = prepare_x(df_train)\n",
    "    x_val = prepare_x(df_val)\n",
    "\n",
    "    #train and predict\n",
    "    w0, w = train_linear_regression(x_train, y_train)\n",
    "    y_pred_val = w0 + x_val.dot(w)\n",
    "\n",
    "    #keep rmse scores\n",
    "    score = rmse(y_val, y_pred_val)\n",
    "    rmse_scores.append(score)\n",
    "    print(f\"Seed = {seed} | Validation RMSE: {score}\")"
   ]
  },
  {
   "cell_type": "code",
   "execution_count": 27,
   "id": "758efa73-140e-4525-bfa5-55a186d50551",
   "metadata": {},
   "outputs": [
    {
     "data": {
      "text/plain": [
       "np.float64(0.007)"
      ]
     },
     "execution_count": 27,
     "metadata": {},
     "output_type": "execute_result"
    }
   ],
   "source": [
    "# standard deviation of scores\n",
    "round(np.std(rmse_scores), 3)"
   ]
  },
  {
   "cell_type": "code",
   "execution_count": null,
   "id": "e9fc90fe-3cef-4675-afc7-6bb3818550df",
   "metadata": {},
   "outputs": [],
   "source": []
  }
 ],
 "metadata": {
  "kernelspec": {
   "display_name": "Python 3 (ipykernel)",
   "language": "python",
   "name": "python3"
  },
  "language_info": {
   "codemirror_mode": {
    "name": "ipython",
    "version": 3
   },
   "file_extension": ".py",
   "mimetype": "text/x-python",
   "name": "python",
   "nbconvert_exporter": "python",
   "pygments_lexer": "ipython3",
   "version": "3.12.1"
  }
 },
 "nbformat": 4,
 "nbformat_minor": 5
}
