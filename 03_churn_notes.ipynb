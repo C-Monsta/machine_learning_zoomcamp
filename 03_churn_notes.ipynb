{
 "cells": [
  {
   "cell_type": "code",
   "execution_count": 2,
   "id": "83b5bf6d-d90d-49f3-959c-7064ac1b0359",
   "metadata": {},
   "outputs": [],
   "source": [
    "import pandas as pd\n",
    "import numpy as np\n",
    "import matplotlib.pyplot as plt"
   ]
  },
  {
   "cell_type": "code",
   "execution_count": 12,
   "id": "b27a47ee-9cfd-4717-be35-28d3579ec10e",
   "metadata": {},
   "outputs": [
    {
     "name": "stdout",
     "output_type": "stream",
     "text": [
      "                                 0             1               2  \\\n",
      "customerID              7590-VHVEG    5575-GNVDE      3668-QPYBK   \n",
      "gender                      Female          Male            Male   \n",
      "SeniorCitizen                    0             0               0   \n",
      "Partner                        Yes            No              No   \n",
      "Dependents                      No            No              No   \n",
      "tenure                           1            34               2   \n",
      "PhoneService                    No           Yes             Yes   \n",
      "MultipleLines     No phone service            No              No   \n",
      "InternetService                DSL           DSL             DSL   \n",
      "OnlineSecurity                  No           Yes             Yes   \n",
      "OnlineBackup                   Yes            No             Yes   \n",
      "DeviceProtection                No           Yes              No   \n",
      "TechSupport                     No            No              No   \n",
      "StreamingTV                     No            No              No   \n",
      "StreamingMovies                 No            No              No   \n",
      "Contract            Month-to-month      One year  Month-to-month   \n",
      "PaperlessBilling               Yes            No             Yes   \n",
      "PaymentMethod     Electronic check  Mailed check    Mailed check   \n",
      "MonthlyCharges               29.85         56.95           53.85   \n",
      "TotalCharges                 29.85        1889.5          108.15   \n",
      "Churn                           No            No             Yes   \n",
      "\n",
      "                                          3                 4  \n",
      "customerID                       7795-CFOCW        9237-HQITU  \n",
      "gender                                 Male            Female  \n",
      "SeniorCitizen                             0                 0  \n",
      "Partner                                  No                No  \n",
      "Dependents                               No                No  \n",
      "tenure                                   45                 2  \n",
      "PhoneService                             No               Yes  \n",
      "MultipleLines              No phone service                No  \n",
      "InternetService                         DSL       Fiber optic  \n",
      "OnlineSecurity                          Yes                No  \n",
      "OnlineBackup                             No                No  \n",
      "DeviceProtection                        Yes                No  \n",
      "TechSupport                             Yes                No  \n",
      "StreamingTV                              No                No  \n",
      "StreamingMovies                          No                No  \n",
      "Contract                           One year    Month-to-month  \n",
      "PaperlessBilling                         No               Yes  \n",
      "PaymentMethod     Bank transfer (automatic)  Electronic check  \n",
      "MonthlyCharges                         42.3              70.7  \n",
      "TotalCharges                        1840.75            151.65  \n",
      "Churn                                    No               Yes  \n"
     ]
    }
   ],
   "source": [
    "#import csv\n",
    "#use full location including raw.githubusercontent\n",
    "df = pd.read_csv(\"https://raw.githubusercontent.com/alexeygrigorev/mlbookcamp-code/master/chapter-03-churn-prediction/WA_Fn-UseC_-Telco-Customer-Churn.csv\", sep = \",\")\n",
    "#print(df.head())\n",
    "print(df.head().T) # transposes, making rows columns\n"
   ]
  },
  {
   "cell_type": "code",
   "execution_count": 20,
   "id": "3d801310-2a6a-47ef-97a9-003007277936",
   "metadata": {},
   "outputs": [
    {
     "name": "stdout",
     "output_type": "stream",
     "text": [
      "                                 0             1               2  \\\n",
      "customerID              7590-vhveg    5575-gnvde      3668-qpybk   \n",
      "gender                      female          male            male   \n",
      "SeniorCitizen                    0             0               0   \n",
      "Partner                        yes            no              no   \n",
      "Dependents                      no            no              no   \n",
      "tenure                           1            34               2   \n",
      "PhoneService                    no           yes             yes   \n",
      "MultipleLines     no_phone_service            no              no   \n",
      "InternetService                dsl           dsl             dsl   \n",
      "OnlineSecurity                  no           yes             yes   \n",
      "OnlineBackup                   yes            no             yes   \n",
      "DeviceProtection                no           yes              no   \n",
      "TechSupport                     no            no              no   \n",
      "StreamingTV                     no            no              no   \n",
      "StreamingMovies                 no            no              no   \n",
      "Contract            month-to-month      one_year  month-to-month   \n",
      "PaperlessBilling               yes            no             yes   \n",
      "PaymentMethod     electronic_check  mailed_check    mailed_check   \n",
      "MonthlyCharges               29.85         56.95           53.85   \n",
      "TotalCharges                 29.85        1889.5          108.15   \n",
      "Churn                           no            no             yes   \n",
      "\n",
      "                                          3                 4  \n",
      "customerID                       7795-cfocw        9237-hqitu  \n",
      "gender                                 male            female  \n",
      "SeniorCitizen                             0                 0  \n",
      "Partner                                  no                no  \n",
      "Dependents                               no                no  \n",
      "tenure                                   45                 2  \n",
      "PhoneService                             no               yes  \n",
      "MultipleLines              no_phone_service                no  \n",
      "InternetService                         dsl       fiber_optic  \n",
      "OnlineSecurity                          yes                no  \n",
      "OnlineBackup                             no                no  \n",
      "DeviceProtection                        yes                no  \n",
      "TechSupport                             yes                no  \n",
      "StreamingTV                              no                no  \n",
      "StreamingMovies                          no                no  \n",
      "Contract                           one_year    month-to-month  \n",
      "PaperlessBilling                         no               yes  \n",
      "PaymentMethod     bank_transfer_(automatic)  electronic_check  \n",
      "MonthlyCharges                         42.3              70.7  \n",
      "TotalCharges                        1840.75            151.65  \n",
      "Churn                                    no               yes  \n"
     ]
    }
   ],
   "source": [
    "# cleaning\n",
    "#dt\n",
    "#df.columns = df.columns.str.lower().str.replace(' ', '_')\n",
    "#identify string columns\n",
    "string_cols = df.select_dtypes(include='object').columns.tolist()\n",
    "categorical_columns = string_cols\n",
    "#print(string_cols)\n",
    "\n",
    "for c in categorical_columns:\n",
    "        df[c] = df[c].str.lower().str.replace(' ', '_')\n",
    "\n",
    "print(df.head().T)"
   ]
  },
  {
   "cell_type": "code",
   "execution_count": null,
   "id": "34b9d1ab-b22a-4de8-8358-7039492ff974",
   "metadata": {},
   "outputs": [],
   "source": []
  }
 ],
 "metadata": {
  "kernelspec": {
   "display_name": "Python 3 (ipykernel)",
   "language": "python",
   "name": "python3"
  },
  "language_info": {
   "codemirror_mode": {
    "name": "ipython",
    "version": 3
   },
   "file_extension": ".py",
   "mimetype": "text/x-python",
   "name": "python",
   "nbconvert_exporter": "python",
   "pygments_lexer": "ipython3",
   "version": "3.12.1"
  }
 },
 "nbformat": 4,
 "nbformat_minor": 5
}
