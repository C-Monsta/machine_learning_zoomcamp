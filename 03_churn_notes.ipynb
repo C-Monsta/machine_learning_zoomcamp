{
 "cells": [
  {
   "cell_type": "code",
   "execution_count": 2,
   "id": "83b5bf6d-d90d-49f3-959c-7064ac1b0359",
   "metadata": {},
   "outputs": [],
   "source": [
    "import pandas as pd\n",
    "import numpy as np\n",
    "import matplotlib.pyplot as plt"
   ]
  },
  {
   "cell_type": "code",
   "execution_count": 12,
   "id": "b27a47ee-9cfd-4717-be35-28d3579ec10e",
   "metadata": {},
   "outputs": [
    {
     "name": "stdout",
     "output_type": "stream",
     "text": [
      "                                 0             1               2  \\\n",
      "customerID              7590-VHVEG    5575-GNVDE      3668-QPYBK   \n",
      "gender                      Female          Male            Male   \n",
      "SeniorCitizen                    0             0               0   \n",
      "Partner                        Yes            No              No   \n",
      "Dependents                      No            No              No   \n",
      "tenure                           1            34               2   \n",
      "PhoneService                    No           Yes             Yes   \n",
      "MultipleLines     No phone service            No              No   \n",
      "InternetService                DSL           DSL             DSL   \n",
      "OnlineSecurity                  No           Yes             Yes   \n",
      "OnlineBackup                   Yes            No             Yes   \n",
      "DeviceProtection                No           Yes              No   \n",
      "TechSupport                     No            No              No   \n",
      "StreamingTV                     No            No              No   \n",
      "StreamingMovies                 No            No              No   \n",
      "Contract            Month-to-month      One year  Month-to-month   \n",
      "PaperlessBilling               Yes            No             Yes   \n",
      "PaymentMethod     Electronic check  Mailed check    Mailed check   \n",
      "MonthlyCharges               29.85         56.95           53.85   \n",
      "TotalCharges                 29.85        1889.5          108.15   \n",
      "Churn                           No            No             Yes   \n",
      "\n",
      "                                          3                 4  \n",
      "customerID                       7795-CFOCW        9237-HQITU  \n",
      "gender                                 Male            Female  \n",
      "SeniorCitizen                             0                 0  \n",
      "Partner                                  No                No  \n",
      "Dependents                               No                No  \n",
      "tenure                                   45                 2  \n",
      "PhoneService                             No               Yes  \n",
      "MultipleLines              No phone service                No  \n",
      "InternetService                         DSL       Fiber optic  \n",
      "OnlineSecurity                          Yes                No  \n",
      "OnlineBackup                             No                No  \n",
      "DeviceProtection                        Yes                No  \n",
      "TechSupport                             Yes                No  \n",
      "StreamingTV                              No                No  \n",
      "StreamingMovies                          No                No  \n",
      "Contract                           One year    Month-to-month  \n",
      "PaperlessBilling                         No               Yes  \n",
      "PaymentMethod     Bank transfer (automatic)  Electronic check  \n",
      "MonthlyCharges                         42.3              70.7  \n",
      "TotalCharges                        1840.75            151.65  \n",
      "Churn                                    No               Yes  \n"
     ]
    }
   ],
   "source": [
    "#import csv\n",
    "#use full location including raw.githubusercontent\n",
    "df = pd.read_csv(\"https://raw.githubusercontent.com/alexeygrigorev/mlbookcamp-code/master/chapter-03-churn-prediction/WA_Fn-UseC_-Telco-Customer-Churn.csv\", sep = \",\")\n",
    "#print(df.head())\n",
    "print(df.head().T) # transposes, making rows columns\n"
   ]
  },
  {
   "cell_type": "code",
   "execution_count": 35,
   "id": "3d801310-2a6a-47ef-97a9-003007277936",
   "metadata": {},
   "outputs": [
    {
     "ename": "SyntaxError",
     "evalue": "unterminated string literal (detected at line 17) (834272199.py, line 17)",
     "output_type": "error",
     "traceback": [
      "  \u001b[36mCell\u001b[39m\u001b[36m \u001b[39m\u001b[32mIn[35]\u001b[39m\u001b[32m, line 17\u001b[39m\n\u001b[31m    \u001b[39m\u001b[31mdf.churn = (df.churn == 'yes).astype(int)\u001b[39m\n                            ^\n\u001b[31mSyntaxError\u001b[39m\u001b[31m:\u001b[39m unterminated string literal (detected at line 17)\n"
     ]
    }
   ],
   "source": [
    "# cleaning\n",
    "#df.dtypes\n",
    "df.columns = df.columns.str.lower().str.replace(' ', '_') #making columns lower case and replacing space with underscore\n",
    "#identify string columns\n",
    "string_cols = df.select_dtypes(include='object').columns.tolist()\n",
    "categorical_columns = string_cols\n",
    "#print(string_cols)\n",
    "\n",
    "for c in categorical_columns:\n",
    "        df[c] = df[c].str.lower().str.replace(' ', '_')\n",
    "\n",
    "# checking for null values in columns\n",
    "# df[tc.isnull()][['customerid', 'totalcharges']]\n",
    "df.totalcharges = pd.to_numeric(df.totalcharges, errors='coerce')\n",
    "df.totalcharges.fillna(0) # should we set null values to 0?\n",
    "\n",
    "df.churn = (df.churn == 'yes).astype(int)\n",
    "print(df.head().T)\n"
   ]
  },
  {
   "cell_type": "code",
   "execution_count": 34,
   "id": "34b9d1ab-b22a-4de8-8358-7039492ff974",
   "metadata": {},
   "outputs": [
    {
     "data": {
      "text/plain": [
       "0        no\n",
       "1        no\n",
       "2       yes\n",
       "3        no\n",
       "4       yes\n",
       "       ... \n",
       "7038     no\n",
       "7039     no\n",
       "7040     no\n",
       "7041    yes\n",
       "7042     no\n",
       "Name: churn, Length: 7043, dtype: object"
      ]
     },
     "execution_count": 34,
     "metadata": {},
     "output_type": "execute_result"
    }
   ],
   "source": [
    "df.churn"
   ]
  },
  {
   "cell_type": "code",
   "execution_count": 33,
   "id": "d8ab220b-555d-473b-b3fa-4000e0aa70f4",
   "metadata": {},
   "outputs": [
    {
     "data": {
      "text/plain": [
       "customerid           object\n",
       "gender               object\n",
       "seniorcitizen         int64\n",
       "partner              object\n",
       "dependents           object\n",
       "tenure                int64\n",
       "phoneservice         object\n",
       "multiplelines        object\n",
       "internetservice      object\n",
       "onlinesecurity       object\n",
       "onlinebackup         object\n",
       "deviceprotection     object\n",
       "techsupport          object\n",
       "streamingtv          object\n",
       "streamingmovies      object\n",
       "contract             object\n",
       "paperlessbilling     object\n",
       "paymentmethod        object\n",
       "monthlycharges      float64\n",
       "totalcharges        float64\n",
       "churn                object\n",
       "dtype: object"
      ]
     },
     "execution_count": 33,
     "metadata": {},
     "output_type": "execute_result"
    }
   ],
   "source": [
    "df.dtypes"
   ]
  },
  {
   "cell_type": "code",
   "execution_count": null,
   "id": "28507334-44bc-4465-99fe-ddde7f4fdbfc",
   "metadata": {},
   "outputs": [],
   "source": []
  }
 ],
 "metadata": {
  "kernelspec": {
   "display_name": "Python 3 (ipykernel)",
   "language": "python",
   "name": "python3"
  },
  "language_info": {
   "codemirror_mode": {
    "name": "ipython",
    "version": 3
   },
   "file_extension": ".py",
   "mimetype": "text/x-python",
   "name": "python",
   "nbconvert_exporter": "python",
   "pygments_lexer": "ipython3",
   "version": "3.12.1"
  }
 },
 "nbformat": 4,
 "nbformat_minor": 5
}
