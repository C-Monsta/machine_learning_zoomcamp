{
 "cells": [
  {
   "cell_type": "code",
   "execution_count": null,
   "id": "e51bb0d3-d56f-4246-a64c-bc45ad17111f",
   "metadata": {},
   "outputs": [
    {
     "name": "stdout",
     "output_type": "stream",
     "text": [
      "2.3.1\n"
     ]
    }
   ],
   "source": [
    "import pandas as pd\n",
    "import numpy as np\n",
    "\n",
    "print(pd.__version__)"
   ]
  },
  {
   "cell_type": "code",
   "execution_count": null,
   "id": "3d581dd1-fbdb-4ff9-90fb-f77411caa0db",
   "metadata": {},
   "outputs": [],
   "source": [
    "df = pd.read_csv('https://raw.githubusercontent.com/alexeygrigorev/datasets/master/car_fuel_efficiency.csv')"
   ]
  },
  {
   "cell_type": "code",
   "execution_count": null,
   "id": "265243c9-c6f2-418e-806e-1c00620fd60c",
   "metadata": {},
   "outputs": [
    {
     "data": {
      "text/plain": [
       "<bound method NDFrame.head of       engine_displacement  num_cylinders  horsepower  vehicle_weight  \\\n",
       "0                     170            3.0       159.0     3413.433759   \n",
       "1                     130            5.0        97.0     3149.664934   \n",
       "2                     170            NaN        78.0     3079.038997   \n",
       "3                     220            4.0         NaN     2542.392402   \n",
       "4                     210            1.0       140.0     3460.870990   \n",
       "...                   ...            ...         ...             ...   \n",
       "9699                  140            5.0       164.0     2981.107371   \n",
       "9700                  180            NaN       154.0     2439.525729   \n",
       "9701                  220            2.0       138.0     2583.471318   \n",
       "9702                  230            4.0       177.0     2905.527390   \n",
       "9703                  270            3.0       140.0     2908.043477   \n",
       "\n",
       "      acceleration  model_year  origin fuel_type         drivetrain  \\\n",
       "0             17.7        2003  Europe  Gasoline    All-wheel drive   \n",
       "1             17.8        2007     USA  Gasoline  Front-wheel drive   \n",
       "2             15.1        2018  Europe  Gasoline  Front-wheel drive   \n",
       "3             20.2        2009     USA    Diesel    All-wheel drive   \n",
       "4             14.4        2009  Europe  Gasoline    All-wheel drive   \n",
       "...            ...         ...     ...       ...                ...   \n",
       "9699          17.3        2013  Europe    Diesel  Front-wheel drive   \n",
       "9700          15.0        2004     USA  Gasoline    All-wheel drive   \n",
       "9701          15.1        2008     USA    Diesel    All-wheel drive   \n",
       "9702          19.4        2011     USA    Diesel  Front-wheel drive   \n",
       "9703          14.7        2005    Asia    Diesel    All-wheel drive   \n",
       "\n",
       "      num_doors  fuel_efficiency_mpg  \n",
       "0           0.0            13.231729  \n",
       "1           0.0            13.688217  \n",
       "2           0.0            14.246341  \n",
       "3           2.0            16.912736  \n",
       "4           2.0            12.488369  \n",
       "...         ...                  ...  \n",
       "9699        NaN            15.101802  \n",
       "9700        0.0            17.962326  \n",
       "9701       -1.0            17.186587  \n",
       "9702        1.0            15.331551  \n",
       "9703       -1.0            14.884467  \n",
       "\n",
       "[9704 rows x 11 columns]>"
      ]
     },
     "execution_count": 92,
     "metadata": {},
     "output_type": "execute_result"
    }
   ],
   "source": [
    "df.head"
   ]
  },
  {
   "cell_type": "code",
   "execution_count": null,
   "id": "4c4c6c00-d7fa-4f3b-991c-d3c7b51f640c",
   "metadata": {},
   "outputs": [
    {
     "data": {
      "text/plain": [
       "(9704, 11)"
      ]
     },
     "execution_count": 80,
     "metadata": {},
     "output_type": "execute_result"
    }
   ],
   "source": [
    "# rows, columns\n",
    "df.shape"
   ]
  },
  {
   "cell_type": "code",
   "execution_count": null,
   "id": "21967c2f-f64e-4833-bf9b-10a2012d9713",
   "metadata": {},
   "outputs": [
    {
     "data": {
      "text/plain": [
       "array(['Gasoline', 'Diesel'], dtype=object)"
      ]
     },
     "execution_count": 81,
     "metadata": {},
     "output_type": "execute_result"
    }
   ],
   "source": [
    "# unique values\n",
    "df['fuel_type'].unique()"
   ]
  },
  {
   "cell_type": "code",
   "execution_count": null,
   "id": "3ca28aaf-9f7d-43c1-885b-9bc87b510860",
   "metadata": {},
   "outputs": [
    {
     "data": {
      "text/plain": [
       "engine_displacement      0\n",
       "num_cylinders          482\n",
       "horsepower             708\n",
       "vehicle_weight           0\n",
       "acceleration           930\n",
       "model_year               0\n",
       "origin                   0\n",
       "fuel_type                0\n",
       "drivetrain               0\n",
       "num_doors              502\n",
       "fuel_efficiency_mpg      0\n",
       "dtype: int64"
      ]
     },
     "execution_count": 82,
     "metadata": {},
     "output_type": "execute_result"
    }
   ],
   "source": [
    "# count of missing values for each column\n",
    "df.isnull().sum()\n",
    "# count of rows that have missing alies\n",
    "#(df.isnull().sum() > 0).sum()"
   ]
  },
  {
   "cell_type": "code",
   "execution_count": null,
   "id": "b2188918-021d-409c-ac94-19bb56435c72",
   "metadata": {},
   "outputs": [
    {
     "data": {
      "text/plain": [
       "np.float64(23.759122836520497)"
      ]
     },
     "execution_count": 83,
     "metadata": {},
     "output_type": "execute_result"
    }
   ],
   "source": [
    "# create new df only for origin = Asia\n",
    "df_asia = df[df['origin'] == 'Asia']\n",
    "df_asia\n",
    "\n",
    "# find max fuel efficienty in this set\n",
    "df_asia['fuel_efficiency_mpg'].max()"
   ]
  },
  {
   "cell_type": "code",
   "execution_count": null,
   "id": "f73bb98c-1fb8-4c83-9e11-05f4590536aa",
   "metadata": {},
   "outputs": [],
   "source": [
    "#Horsepower part 1 of 2\n",
    "# backup dataset for practice and modifying\n",
    "# pointing a new dataframe to the same array means changes are made to both df's\n",
    "df_horse = df.copy()\n",
    "\n",
    "# median horsepower = 149\n",
    "df_horse['horsepower'].median()\n",
    "\n",
    "# mode horsepower = 152\n",
    "# 0 means pick the first of the values, not needed?\n",
    "df_horse['horsepower'].mode()[0]\n",
    "\n",
    "#replace null values with the mode\n",
    "#inplace = True modifies this dataframe instead of making a replacement. Not necessary, use [0] and inplace is not needed\n",
    "df_horse['horsepower'] = df_horse['horsepower'].fillna(df_horse['horsepower'].mode()[0])\n",
    "\n",
    "#replace null values with 152 (manual calc, sub other numbers too for checking)\n",
    "#df_horse['horsepower'] = df_horse['horsepower'].fillna(152)\n"
   ]
  },
  {
   "cell_type": "code",
   "execution_count": null,
   "id": "f0b3b688-cd61-4991-8424-7e72f38769bb",
   "metadata": {},
   "outputs": [
    {
     "name": "stdout",
     "output_type": "stream",
     "text": [
      "It went up\n"
     ]
    }
   ],
   "source": [
    "#Horsepower part 2 of 2\n",
    "# check change\n",
    "df_h_med = df_horse['horsepower'].median()\n",
    "df_med = df['horsepower'].median()\n",
    "\n",
    "# Evaluate change\n",
    "if df_h_med > df_med:\n",
    "    print('It went up')\n",
    "elif df_h_med < df_med:\n",
    "    print('It went down')\n",
    "else: print ('SameSame')"
   ]
  },
  {
   "cell_type": "code",
   "execution_count": null,
   "id": "5342249d-01bd-4698-87de-0fe83898c904",
   "metadata": {},
   "outputs": [
    {
     "data": {
      "text/plain": [
       "np.float64(0.5187709081074039)"
      ]
     },
     "execution_count": 129,
     "metadata": {},
     "output_type": "execute_result"
    }
   ],
   "source": [
    "# Asia query\n",
    "#Select all the cars from Asia\n",
    "# done above in df_asia\n",
    "df_asia = df[df['origin'] == 'Asia']\n",
    "\n",
    "#Select only columns vehicle_weight and model_year\n",
    "df_asia_subset = df_asia[['vehicle_weight', 'model_year']]\n",
    "\n",
    "#Select the first 7 values\n",
    "# pandas doesn't support [row, col] indexing like np\n",
    "# use iloc to specify integer-location based indexing\n",
    "df_asia_subset_seven = df_asia_subset.iloc[:7, :]\n",
    "#print(df_asia_subset_seven)\n",
    "\n",
    "#Get the underlying NumPy array. Let's call it X.\n",
    "# x = np.array([df_asia_subset_seven]) this won't work, dataframe in brackets will create a 1-element object array\n",
    "x = df_asia_subset_seven.to_numpy()\n",
    "\n",
    "#Compute matrix-matrix multiplication between the transpose of X and X. To get the transpose, use X.T. Let's call the result XTX.\n",
    "# Capital T is transposing the array, @ is the matrix multiplication\n",
    "# Not sure I understand this part\n",
    "xtx = x.T @ x\n",
    "\n",
    "#Invert XTX\n",
    "# inverse is 1/ that number. Eg. 2 to the power of -1 means 1/2\n",
    "# use pinv (pseudo inverse) instead of inv as this gives a result by finding best possible invert\n",
    "xtx_inv = np.linalg.pinv(xtx)\n",
    "\n",
    "#Create an array y with values [1100, 1300, 800, 900, 1000, 1100, 1200].\n",
    "y = np.array([1100, 1300, 800, 900, 1000, 1100, 1200])\n",
    "\n",
    "#Multiply the inverse of XTX with the transpose of X, and then multiply the result by y. Call the result w.\n",
    "# @ means matrix multiplication\n",
    "# capital T means transpose\n",
    "w = xtx_inv @ x.T @ y\n",
    "\n",
    "#What's the sum of all the elements of the result?\n",
    "w.sum()\n"
   ]
  },
  {
   "cell_type": "code",
   "execution_count": null,
   "id": "ee54d3c5-037c-46ed-9d40-a7c4ecf85d7c",
   "metadata": {},
   "outputs": [],
   "source": [
    "#Array"
   ]
  },
  {
   "cell_type": "code",
   "execution_count": null,
   "id": "5c9082cc-bc11-4d53-b354-d94b1e9a0eeb",
   "metadata": {},
   "outputs": [
    {
     "data": {
      "text/plain": [
       "array([ 10.,  20.,  30.,  40.,  50.,  60.,  70.,  80.,  90., 100.])"
      ]
     },
     "execution_count": 22,
     "metadata": {},
     "output_type": "execute_result"
    }
   ],
   "source": [
    "a = np.array([1,2,3,5,7,12])\n",
    "a[2] = 10\n",
    "np.arange(3, 10)\n",
    "np.linspace(10,100, 10)"
   ]
  },
  {
   "cell_type": "code",
   "execution_count": null,
   "id": "5d782624-abf1-4863-9613-26427970f609",
   "metadata": {},
   "outputs": [
    {
     "data": {
      "text/plain": [
       "array([[0., 0.],\n",
       "       [0., 0.],\n",
       "       [0., 0.],\n",
       "       [0., 0.],\n",
       "       [0., 0.]])"
      ]
     },
     "execution_count": 30,
     "metadata": {},
     "output_type": "execute_result"
    }
   ],
   "source": [
    "np.zeros((5, 2))"
   ]
  },
  {
   "cell_type": "code",
   "execution_count": null,
   "id": "653c3301-f474-4067-9775-440faf7a82c1",
   "metadata": {},
   "outputs": [
    {
     "data": {
      "text/plain": [
       "array([[1.1, 1.2, 1.3],\n",
       "       [2.1, 2.2, 2.3],\n",
       "       [3.1, 3.2, 3.3]])"
      ]
     },
     "execution_count": 32,
     "metadata": {},
     "output_type": "execute_result"
    }
   ],
   "source": [
    "n=np.array([\n",
    "    [1.1,1.2,1.3],\n",
    "    [2.1,2.2,2.3],\n",
    "    [3.1,3.2,3.3]\n",
    "])\n",
    "n"
   ]
  },
  {
   "cell_type": "code",
   "execution_count": null,
   "id": "0a4a2799-8136-4aa2-a658-e8fa0529e1b6",
   "metadata": {},
   "outputs": [
    {
     "data": {
      "text/plain": [
       "np.float64(1.3)"
      ]
     },
     "execution_count": 33,
     "metadata": {},
     "output_type": "execute_result"
    }
   ],
   "source": [
    "n[0,2]"
   ]
  },
  {
   "cell_type": "code",
   "execution_count": null,
   "id": "cb9ebda2-7c7f-4174-9750-546d69eeffd1",
   "metadata": {},
   "outputs": [
    {
     "data": {
      "text/plain": [
       "array([[11, 67],\n",
       "       [65, 55],\n",
       "       [ 3, 91],\n",
       "       [78, 27],\n",
       "       [29, 33]])"
      ]
     },
     "execution_count": 41,
     "metadata": {},
     "output_type": "execute_result"
    }
   ],
   "source": [
    "np.random.seed(5)\n",
    "np.random.rand(5,2)\n",
    "np.random.randn(5,2) #randn = normal dist\n",
    "100 * np.random.randn(5, 2) # numbers between 0 and 100 vs standard 0-1\n",
    "np.random.randint(low=0, high = 100, size = (5, 2)) # integers"
   ]
  },
  {
   "cell_type": "code",
   "execution_count": null,
   "id": "dcef4763-5e51-4fa9-aaa5-3a23248adb08",
   "metadata": {},
   "outputs": [],
   "source": [
    "# Element Ops"
   ]
  },
  {
   "cell_type": "code",
   "execution_count": null,
   "id": "4c9f27e5-1d4f-4bf9-ba2e-1c70bc6880c9",
   "metadata": {},
   "outputs": [
    {
     "data": {
      "text/plain": [
       "array([0, 1, 2, 3, 4])"
      ]
     },
     "execution_count": 43,
     "metadata": {},
     "output_type": "execute_result"
    }
   ],
   "source": [
    "a = np.arange(5)\n",
    "a"
   ]
  },
  {
   "cell_type": "code",
   "execution_count": null,
   "id": "12816879-635b-4cd8-a743-32e2af300485",
   "metadata": {},
   "outputs": [],
   "source": [
    "aa = a + 1 # adds 1 to every number in array\n",
    "b = (10 + (a * 2 )) ** 2  # ** means power of"
   ]
  },
  {
   "cell_type": "code",
   "execution_count": null,
   "id": "7df0a970-cb64-4e3a-81e5-bd49711722bb",
   "metadata": {},
   "outputs": [
    {
     "data": {
      "text/plain": [
       "array([101, 146, 199, 260, 329])"
      ]
     },
     "execution_count": 47,
     "metadata": {},
     "output_type": "execute_result"
    }
   ],
   "source": [
    "aa + b # adds numbers in arrays together, can do all kinds of functions here"
   ]
  },
  {
   "cell_type": "code",
   "execution_count": null,
   "id": "1a5af8ab-1ac8-4518-85c4-50c416441fe9",
   "metadata": {},
   "outputs": [],
   "source": []
  }
 ],
 "metadata": {
  "kernelspec": {
   "display_name": "Python 3 (ipykernel)",
   "language": "python",
   "name": "python3"
  },
  "language_info": {
   "codemirror_mode": {
    "name": "ipython",
    "version": 3
   },
   "file_extension": ".py",
   "mimetype": "text/x-python",
   "name": "python",
   "nbconvert_exporter": "python",
   "pygments_lexer": "ipython3",
   "version": "3.12.1"
  }
 },
 "nbformat": 4,
 "nbformat_minor": 5
}
